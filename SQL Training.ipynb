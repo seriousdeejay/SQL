{
 "cells": [
  {
   "cell_type": "code",
   "execution_count": null,
   "id": "bafa5e37",
   "metadata": {},
   "outputs": [],
   "source": [
    "# https://sqlbolt.com/\n",
    "# https://www.w3resource.com/sql/sql-table.php"
   ]
  },
  {
   "cell_type": "markdown",
   "id": "022c05fc",
   "metadata": {},
   "source": [
    "## Imports"
   ]
  },
  {
   "cell_type": "code",
   "execution_count": null,
   "id": "1a8344d6",
   "metadata": {},
   "outputs": [],
   "source": [
    "# !pip install pandas"
   ]
  },
  {
   "cell_type": "code",
   "execution_count": 1,
   "id": "279a379e",
   "metadata": {},
   "outputs": [],
   "source": [
    "import pandas as pd\n",
    "import numpy as np\n",
    "import sqlite3 as sql"
   ]
  },
  {
   "cell_type": "markdown",
   "id": "b5cbb109",
   "metadata": {},
   "source": [
    "# Dummy Data"
   ]
  },
  {
   "cell_type": "markdown",
   "id": "4eb4c0f7",
   "metadata": {},
   "source": [
    "## Database Connection"
   ]
  },
  {
   "cell_type": "code",
   "execution_count": 9,
   "id": "09c2aa5c",
   "metadata": {},
   "outputs": [],
   "source": [
    "# Create connection to database file\n",
    "## database = \"dummy_database.db\"\n",
    "database = 'sqlbolt.db'\n",
    "connection = sql.connect(database)"
   ]
  },
  {
   "cell_type": "code",
   "execution_count": 22,
   "id": "376dad4d",
   "metadata": {},
   "outputs": [],
   "source": [
    "# query =  '''SELECT * FROM CUSTOMER'''\n",
    "# query2 = '''SELECT CUST_CODE, CUST_NAME FROM CUSTOMER'''"
   ]
  },
  {
   "cell_type": "markdown",
   "id": "b3ee8f81",
   "metadata": {},
   "source": [
    "### Show Tables"
   ]
  },
  {
   "cell_type": "code",
   "execution_count": 140,
   "id": "dab5f695",
   "metadata": {},
   "outputs": [
    {
     "data": {
      "text/html": [
       "<div>\n",
       "<style scoped>\n",
       "    .dataframe tbody tr th:only-of-type {\n",
       "        vertical-align: middle;\n",
       "    }\n",
       "\n",
       "    .dataframe tbody tr th {\n",
       "        vertical-align: top;\n",
       "    }\n",
       "\n",
       "    .dataframe thead th {\n",
       "        text-align: right;\n",
       "    }\n",
       "</style>\n",
       "<table border=\"1\" class=\"dataframe\">\n",
       "  <thead>\n",
       "    <tr style=\"text-align: right;\">\n",
       "      <th></th>\n",
       "      <th>type</th>\n",
       "      <th>name</th>\n",
       "      <th>tbl_name</th>\n",
       "      <th>rootpage</th>\n",
       "      <th>sql</th>\n",
       "    </tr>\n",
       "  </thead>\n",
       "  <tbody>\n",
       "    <tr>\n",
       "      <th>0</th>\n",
       "      <td>table</td>\n",
       "      <td>Movies</td>\n",
       "      <td>Movies</td>\n",
       "      <td>2</td>\n",
       "      <td>CREATE TABLE Movies (\\n            id INTEGER,...</td>\n",
       "    </tr>\n",
       "    <tr>\n",
       "      <th>1</th>\n",
       "      <td>table</td>\n",
       "      <td>Boxoffice</td>\n",
       "      <td>Boxoffice</td>\n",
       "      <td>3</td>\n",
       "      <td>CREATE TABLE Boxoffice (\\n            Movie_id...</td>\n",
       "    </tr>\n",
       "    <tr>\n",
       "      <th>2</th>\n",
       "      <td>index</td>\n",
       "      <td>sqlite_autoindex_Boxoffice_1</td>\n",
       "      <td>Boxoffice</td>\n",
       "      <td>4</td>\n",
       "      <td>None</td>\n",
       "    </tr>\n",
       "  </tbody>\n",
       "</table>\n",
       "</div>"
      ],
      "text/plain": [
       "    type                          name   tbl_name  rootpage  \\\n",
       "0  table                        Movies     Movies         2   \n",
       "1  table                     Boxoffice  Boxoffice         3   \n",
       "2  index  sqlite_autoindex_Boxoffice_1  Boxoffice         4   \n",
       "\n",
       "                                                 sql  \n",
       "0  CREATE TABLE Movies (\\n            id INTEGER,...  \n",
       "1  CREATE TABLE Boxoffice (\\n            Movie_id...  \n",
       "2                                               None  "
      ]
     },
     "execution_count": 140,
     "metadata": {},
     "output_type": "execute_result"
    }
   ],
   "source": [
    "query = 'SELECT * FROM sqlite_master;'\n",
    "pd.read_sql_query(query, connection)"
   ]
  },
  {
   "cell_type": "markdown",
   "id": "fa31b3ce",
   "metadata": {},
   "source": [
    "### Create Tables"
   ]
  },
  {
   "cell_type": "code",
   "execution_count": 141,
   "id": "cabc25fc",
   "metadata": {},
   "outputs": [
    {
     "data": {
      "text/plain": [
       "<sqlite3.Cursor at 0x2b5e3887ac0>"
      ]
     },
     "execution_count": 141,
     "metadata": {},
     "output_type": "execute_result"
    }
   ],
   "source": [
    "query = '''\n",
    "    CREATE TABLE IF NOT EXISTS Movies (\n",
    "            id INTEGER NOT NULL UNIQUE,\n",
    "            title VARCHAR(200),\n",
    "            director VARCHAR(200),\n",
    "            year INTEGER,\n",
    "            Length_minutes INTEGER\n",
    "            );\n",
    "'''\n",
    "\n",
    "connection.execute(query)"
   ]
  },
  {
   "cell_type": "code",
   "execution_count": 133,
   "id": "d17f0cf5",
   "metadata": {},
   "outputs": [
    {
     "data": {
      "text/plain": [
       "<sqlite3.Cursor at 0x2b5e29ee4c0>"
      ]
     },
     "execution_count": 133,
     "metadata": {},
     "output_type": "execute_result"
    }
   ],
   "source": [
    "query = '''\n",
    "    CREATE TABLE IF NOT EXISTS Boxoffice (\n",
    "            Movie_id INTEGER NOT NULL UNIQUE,\n",
    "            Rating DOUBLE,\n",
    "            Domestic_sales INTEGER,\n",
    "            International_sales INTEGER\n",
    "            );\n",
    "'''\n",
    "\n",
    "connection.execute(query)"
   ]
  },
  {
   "cell_type": "markdown",
   "id": "9f222e5e",
   "metadata": {},
   "source": [
    "### Dropping Tables"
   ]
  },
  {
   "cell_type": "code",
   "execution_count": 93,
   "id": "2cf00a2c",
   "metadata": {},
   "outputs": [
    {
     "data": {
      "text/plain": [
       "<sqlite3.Cursor at 0x2b5e2ae9840>"
      ]
     },
     "execution_count": 93,
     "metadata": {},
     "output_type": "execute_result"
    }
   ],
   "source": [
    "## Dropping Tables\n",
    "# query = '''\n",
    "#    DROP TABLE Movies\n",
    "# '''\n",
    "\n",
    "# connection.execute(query)"
   ]
  },
  {
   "cell_type": "markdown",
   "id": "a07bd6f3",
   "metadata": {},
   "source": [
    "### Insert Rows"
   ]
  },
  {
   "cell_type": "code",
   "execution_count": 142,
   "id": "15178a57",
   "metadata": {},
   "outputs": [],
   "source": [
    "query = '''\n",
    "    INSERT INTO Movies(id, title, director, year, length_minutes)\n",
    "    VALUES\n",
    "    (\n",
    "    1, 'Toy Story', 'John Lasseter', 1995, 81\n",
    "    );\n",
    "\n",
    "    INSERT INTO Movies(id, title, director, year, length_minutes)\n",
    "    VALUES\n",
    "    (\n",
    "    2, 'A Bugs Life', 'John Lasseter', 1998, 95\n",
    "    );\n",
    "\n",
    "    INSERT INTO Movies(id, title, director, year, length_minutes)\n",
    "    VALUES\n",
    "    (\n",
    "    3, 'Toy Story 2', 'John Lasseter', 1999, 93\n",
    "    );\n",
    "\n",
    "    INSERT INTO Movies(id, title, director, year, length_minutes)\n",
    "    VALUES\n",
    "    (\n",
    "    4, 'Monsters', ' Inc.', 0, 2001\n",
    "    );\n",
    "\n",
    "    INSERT INTO Movies(id, title, director, year, length_minutes)\n",
    "    VALUES\n",
    "    (\n",
    "    5, 'Finding Nemo', 'Andrew Stanton', 2003, 107\n",
    "    );\n",
    "\n",
    "    INSERT INTO Movies(id, title, director, year, length_minutes)\n",
    "    VALUES\n",
    "    (\n",
    "    6, 'The Incredibles', 'Brad Bird', 2004, 116\n",
    "    );\n",
    "\n",
    "    INSERT INTO Movies(id, title, director, year, length_minutes)\n",
    "    VALUES\n",
    "    (\n",
    "    7, 'Cars', 'John Lasseter', 2006, 117\n",
    "    );\n",
    "\n",
    "    INSERT INTO Movies(id, title, director, year, length_minutes)\n",
    "    VALUES\n",
    "    (\n",
    "    8, 'Ratatouille', 'Brad Bird', 2007, 115\n",
    "    );\n",
    "\n",
    "    INSERT INTO Movies(id, title, director, year, length_minutes)\n",
    "    VALUES\n",
    "    (\n",
    "    9, 'WALL-E', 'Andrew Stanton', 2008, 104\n",
    "    );\n",
    "\n",
    "    INSERT INTO Movies(id, title, director, year, length_minutes)\n",
    "    VALUES\n",
    "    (\n",
    "    10, 'Up', 'Pete Docter', 2009, 101\n",
    "    );\n",
    "\n",
    "    INSERT INTO Movies(id, title, director, year, length_minutes)\n",
    "    VALUES\n",
    "    (\n",
    "    11, 'Toy Story 3', 'Lee Unkrich', 2010, 103\n",
    "    );\n",
    "\n",
    "    INSERT INTO Movies(id, title, director, year, length_minutes)\n",
    "    VALUES\n",
    "    (\n",
    "    12, 'Cars 2', 'John Lasseter', 2011, 120\n",
    "    );\n",
    "\n",
    " \n",
    "    INSERT INTO Movies(id, title, director, year, length_minutes)\n",
    "    VALUES\n",
    "    (\n",
    "    13, 'Brave', 'Brenda Chapman', 2012, 102\n",
    "    );\n",
    "\n",
    "\n",
    "    INSERT INTO Movies(id, title, director, year, length_minutes)\n",
    "    VALUES\n",
    "    (\n",
    "    14, 'Monsters University', 'Dan Scanlon', 2013, 110\n",
    "    );\n",
    "    \n",
    "    INSERT INTO Movies(id, title, director, year, length_minutes)\n",
    "    VALUES\n",
    "    (\n",
    "    87, 'WALL-G', 'Brenda Chapman', 2042, 97\n",
    "    );\n",
    "'''\n",
    "\n",
    "for statement in query.split(';'):\n",
    "    statement = statement + ';'\n",
    "    connection.execute(statement)"
   ]
  },
  {
   "cell_type": "code",
   "execution_count": 134,
   "id": "110afe03",
   "metadata": {},
   "outputs": [],
   "source": [
    "query = '''\n",
    "    INSERT INTO Boxoffice(movie_id, rating, domestic_sales, international_sales)\n",
    "    VALUES\n",
    "    (\n",
    "    5, 8.2, 380843261, 555900000\n",
    "    );\n",
    "\n",
    "    INSERT INTO Boxoffice(movie_id, rating, domestic_sales, international_sales)\n",
    "    VALUES\n",
    "    (\n",
    "    14, 7.4, 268492764, 475066843\n",
    "    );\n",
    "\n",
    "    INSERT INTO Boxoffice(movie_id, rating, domestic_sales, international_sales)\n",
    "    VALUES\n",
    "    (\n",
    "    8, 8, 206445654, 417277164\n",
    "    );\n",
    "\n",
    "    INSERT INTO Boxoffice(movie_id, rating, domestic_sales, international_sales)\n",
    "    VALUES\n",
    "    (\n",
    "    12, 6.4, 191452396, 368400000\n",
    "    );\n",
    "\n",
    "    INSERT INTO Boxoffice(movie_id, rating, domestic_sales, international_sales)\n",
    "    VALUES\n",
    "    (\n",
    "    3, 7.9, 245852179, 239163000\n",
    "    );\n",
    "\n",
    "    INSERT INTO Boxoffice(movie_id, rating, domestic_sales, international_sales)\n",
    "    VALUES\n",
    "    (\n",
    "    6, 8, 261441092, 370001000\n",
    "    );\n",
    "\n",
    "    INSERT INTO Boxoffice(movie_id, rating, domestic_sales, international_sales)\n",
    "    VALUES\n",
    "    (\n",
    "    9, 8.5, 223808164, 297503696\n",
    "    );\n",
    "\n",
    "    INSERT INTO Boxoffice(movie_id, rating, domestic_sales, international_sales)\n",
    "    VALUES\n",
    "    (\n",
    "    11, 8.4, 415004880, 648167031\n",
    "    );\n",
    "\n",
    "    INSERT INTO Boxoffice(movie_id, rating, domestic_sales, international_sales)\n",
    "    VALUES\n",
    "    (\n",
    "    1, 8.3, 191796233, 170162503\n",
    "    );\n",
    "\n",
    "    INSERT INTO Boxoffice(movie_id, rating, domestic_sales, international_sales)\n",
    "    VALUES\n",
    "    (\n",
    "    7, 7.2, 244082982, 217900167\n",
    "    );\n",
    "\n",
    "    INSERT INTO Boxoffice(movie_id, rating, domestic_sales, international_sales)\n",
    "    VALUES\n",
    "    (\n",
    "    10, 8.3, 293004164, 438338580\n",
    "    );\n",
    "\n",
    "    INSERT INTO Boxoffice(movie_id, rating, domestic_sales, international_sales)\n",
    "    VALUES\n",
    "    (\n",
    "    4, 8.1, 289916256, 272900000\n",
    "    );\n",
    "\n",
    "    INSERT INTO Boxoffice(movie_id, rating, domestic_sales, international_sales)\n",
    "    VALUES\n",
    "    (\n",
    "    2, 7.2, 162798565, 200600000\n",
    "    );\n",
    "\n",
    "    INSERT INTO Boxoffice(movie_id, rating, domestic_sales, international_sales)\n",
    "    VALUES\n",
    "    (\n",
    "    13, 7.2, 237283207, 301700000\n",
    "    );\n",
    "'''\n",
    "\n",
    "\n",
    "for statement in query.split(';'):\n",
    "    statement = statement + ';'\n",
    "    connection.execute(statement)"
   ]
  },
  {
   "cell_type": "markdown",
   "id": "3068accd",
   "metadata": {},
   "source": [
    "### Returning Queries"
   ]
  },
  {
   "cell_type": "code",
   "execution_count": 113,
   "id": "8f3b2d11",
   "metadata": {},
   "outputs": [
    {
     "data": {
      "text/html": [
       "<div>\n",
       "<style scoped>\n",
       "    .dataframe tbody tr th:only-of-type {\n",
       "        vertical-align: middle;\n",
       "    }\n",
       "\n",
       "    .dataframe tbody tr th {\n",
       "        vertical-align: top;\n",
       "    }\n",
       "\n",
       "    .dataframe thead th {\n",
       "        text-align: right;\n",
       "    }\n",
       "</style>\n",
       "<table border=\"1\" class=\"dataframe\">\n",
       "  <thead>\n",
       "    <tr style=\"text-align: right;\">\n",
       "      <th></th>\n",
       "      <th>id</th>\n",
       "      <th>title</th>\n",
       "      <th>director</th>\n",
       "      <th>year</th>\n",
       "      <th>Length_minutes</th>\n",
       "    </tr>\n",
       "  </thead>\n",
       "  <tbody>\n",
       "    <tr>\n",
       "      <th>0</th>\n",
       "      <td>1</td>\n",
       "      <td>Toy Story</td>\n",
       "      <td>John Lasseter</td>\n",
       "      <td>1995</td>\n",
       "      <td>81</td>\n",
       "    </tr>\n",
       "    <tr>\n",
       "      <th>1</th>\n",
       "      <td>2</td>\n",
       "      <td>A Bugs Life</td>\n",
       "      <td>John Lasseter</td>\n",
       "      <td>1998</td>\n",
       "      <td>95</td>\n",
       "    </tr>\n",
       "    <tr>\n",
       "      <th>2</th>\n",
       "      <td>3</td>\n",
       "      <td>Toy Story 2</td>\n",
       "      <td>John Lasseter</td>\n",
       "      <td>1999</td>\n",
       "      <td>93</td>\n",
       "    </tr>\n",
       "    <tr>\n",
       "      <th>3</th>\n",
       "      <td>4</td>\n",
       "      <td>Monsters</td>\n",
       "      <td>Inc.</td>\n",
       "      <td>0</td>\n",
       "      <td>2001</td>\n",
       "    </tr>\n",
       "    <tr>\n",
       "      <th>4</th>\n",
       "      <td>5</td>\n",
       "      <td>Finding Nemo</td>\n",
       "      <td>Andrew Stanton</td>\n",
       "      <td>2003</td>\n",
       "      <td>107</td>\n",
       "    </tr>\n",
       "  </tbody>\n",
       "</table>\n",
       "</div>"
      ],
      "text/plain": [
       "   id         title        director  year  Length_minutes\n",
       "0   1     Toy Story   John Lasseter  1995              81\n",
       "1   2   A Bugs Life   John Lasseter  1998              95\n",
       "2   3   Toy Story 2   John Lasseter  1999              93\n",
       "3   4      Monsters            Inc.     0            2001\n",
       "4   5  Finding Nemo  Andrew Stanton  2003             107"
      ]
     },
     "execution_count": 113,
     "metadata": {},
     "output_type": "execute_result"
    }
   ],
   "source": [
    "query = '''\n",
    "    SELECT * FROM Movies;\n",
    "'''\n",
    "# Expects returned rows (so not usable for e.g. table creation.)\n",
    "pd.read_sql_query(query, connection).head(5)"
   ]
  },
  {
   "cell_type": "code",
   "execution_count": 137,
   "id": "2144fc17",
   "metadata": {},
   "outputs": [
    {
     "data": {
      "text/html": [
       "<div>\n",
       "<style scoped>\n",
       "    .dataframe tbody tr th:only-of-type {\n",
       "        vertical-align: middle;\n",
       "    }\n",
       "\n",
       "    .dataframe tbody tr th {\n",
       "        vertical-align: top;\n",
       "    }\n",
       "\n",
       "    .dataframe thead th {\n",
       "        text-align: right;\n",
       "    }\n",
       "</style>\n",
       "<table border=\"1\" class=\"dataframe\">\n",
       "  <thead>\n",
       "    <tr style=\"text-align: right;\">\n",
       "      <th></th>\n",
       "      <th>Movie_id</th>\n",
       "      <th>Rating</th>\n",
       "      <th>Domestic_sales</th>\n",
       "      <th>International_sales</th>\n",
       "    </tr>\n",
       "  </thead>\n",
       "  <tbody>\n",
       "    <tr>\n",
       "      <th>0</th>\n",
       "      <td>5</td>\n",
       "      <td>8.2</td>\n",
       "      <td>380843261</td>\n",
       "      <td>555900000</td>\n",
       "    </tr>\n",
       "    <tr>\n",
       "      <th>1</th>\n",
       "      <td>14</td>\n",
       "      <td>7.4</td>\n",
       "      <td>268492764</td>\n",
       "      <td>475066843</td>\n",
       "    </tr>\n",
       "    <tr>\n",
       "      <th>2</th>\n",
       "      <td>8</td>\n",
       "      <td>8.0</td>\n",
       "      <td>206445654</td>\n",
       "      <td>417277164</td>\n",
       "    </tr>\n",
       "    <tr>\n",
       "      <th>3</th>\n",
       "      <td>12</td>\n",
       "      <td>6.4</td>\n",
       "      <td>191452396</td>\n",
       "      <td>368400000</td>\n",
       "    </tr>\n",
       "    <tr>\n",
       "      <th>4</th>\n",
       "      <td>3</td>\n",
       "      <td>7.9</td>\n",
       "      <td>245852179</td>\n",
       "      <td>239163000</td>\n",
       "    </tr>\n",
       "  </tbody>\n",
       "</table>\n",
       "</div>"
      ],
      "text/plain": [
       "   Movie_id  Rating  Domestic_sales  International_sales\n",
       "0         5     8.2       380843261            555900000\n",
       "1        14     7.4       268492764            475066843\n",
       "2         8     8.0       206445654            417277164\n",
       "3        12     6.4       191452396            368400000\n",
       "4         3     7.9       245852179            239163000"
      ]
     },
     "execution_count": 137,
     "metadata": {},
     "output_type": "execute_result"
    }
   ],
   "source": [
    "query = '''\n",
    "    SELECT * FROM Boxoffice;\n",
    "'''\n",
    "\n",
    "pd.read_sql_query(query, connection).head(5)"
   ]
  },
  {
   "cell_type": "code",
   "execution_count": 118,
   "id": "5d5181c1",
   "metadata": {},
   "outputs": [
    {
     "data": {
      "text/html": [
       "<div>\n",
       "<style scoped>\n",
       "    .dataframe tbody tr th:only-of-type {\n",
       "        vertical-align: middle;\n",
       "    }\n",
       "\n",
       "    .dataframe tbody tr th {\n",
       "        vertical-align: top;\n",
       "    }\n",
       "\n",
       "    .dataframe thead th {\n",
       "        text-align: right;\n",
       "    }\n",
       "</style>\n",
       "<table border=\"1\" class=\"dataframe\">\n",
       "  <thead>\n",
       "    <tr style=\"text-align: right;\">\n",
       "      <th></th>\n",
       "      <th>Movie_id</th>\n",
       "      <th>Rating</th>\n",
       "      <th>Domestic_sales</th>\n",
       "      <th>International_sales</th>\n",
       "    </tr>\n",
       "  </thead>\n",
       "  <tbody>\n",
       "    <tr>\n",
       "      <th>0</th>\n",
       "      <td>5</td>\n",
       "      <td>8.2</td>\n",
       "      <td>380843261</td>\n",
       "      <td>555900000</td>\n",
       "    </tr>\n",
       "    <tr>\n",
       "      <th>1</th>\n",
       "      <td>11</td>\n",
       "      <td>8.4</td>\n",
       "      <td>415004880</td>\n",
       "      <td>648167031</td>\n",
       "    </tr>\n",
       "  </tbody>\n",
       "</table>\n",
       "</div>"
      ],
      "text/plain": [
       "   Movie_id  Rating  Domestic_sales  International_sales\n",
       "0         5     8.2       380843261            555900000\n",
       "1        11     8.4       415004880            648167031"
      ]
     },
     "execution_count": 118,
     "metadata": {},
     "output_type": "execute_result"
    }
   ],
   "source": [
    "query = '''\n",
    "    SELECT * FROM Boxoffice\n",
    "    WHERE Rating > 8 and Domestic_sales > 310001000;\n",
    "'''\n",
    "\n",
    "pd.read_sql_query(query, connection).head(5)"
   ]
  },
  {
   "cell_type": "code",
   "execution_count": 138,
   "id": "c01dbb0b",
   "metadata": {},
   "outputs": [
    {
     "data": {
      "text/html": [
       "<div>\n",
       "<style scoped>\n",
       "    .dataframe tbody tr th:only-of-type {\n",
       "        vertical-align: middle;\n",
       "    }\n",
       "\n",
       "    .dataframe tbody tr th {\n",
       "        vertical-align: top;\n",
       "    }\n",
       "\n",
       "    .dataframe thead th {\n",
       "        text-align: right;\n",
       "    }\n",
       "</style>\n",
       "<table border=\"1\" class=\"dataframe\">\n",
       "  <thead>\n",
       "    <tr style=\"text-align: right;\">\n",
       "      <th></th>\n",
       "      <th>Movie_id</th>\n",
       "      <th>Rating</th>\n",
       "      <th>Domestic_sales</th>\n",
       "      <th>International_sales</th>\n",
       "      <th>id</th>\n",
       "      <th>title</th>\n",
       "      <th>director</th>\n",
       "      <th>year</th>\n",
       "      <th>Length_minutes</th>\n",
       "    </tr>\n",
       "  </thead>\n",
       "  <tbody>\n",
       "  </tbody>\n",
       "</table>\n",
       "</div>"
      ],
      "text/plain": [
       "Empty DataFrame\n",
       "Columns: [Movie_id, Rating, Domestic_sales, International_sales, id, title, director, year, Length_minutes]\n",
       "Index: []"
      ]
     },
     "execution_count": 138,
     "metadata": {},
     "output_type": "execute_result"
    }
   ],
   "source": [
    "query = '''\n",
    "    SELECT * FROM Boxoffice\n",
    "    JOIN Movies;\n",
    "'''\n",
    "\n",
    "pd.read_sql_query(query, connection)"
   ]
  },
  {
   "cell_type": "code",
   "execution_count": 152,
   "id": "eec39c9b",
   "metadata": {},
   "outputs": [
    {
     "data": {
      "text/html": [
       "<div>\n",
       "<style scoped>\n",
       "    .dataframe tbody tr th:only-of-type {\n",
       "        vertical-align: middle;\n",
       "    }\n",
       "\n",
       "    .dataframe tbody tr th {\n",
       "        vertical-align: top;\n",
       "    }\n",
       "\n",
       "    .dataframe thead th {\n",
       "        text-align: right;\n",
       "    }\n",
       "</style>\n",
       "<table border=\"1\" class=\"dataframe\">\n",
       "  <thead>\n",
       "    <tr style=\"text-align: right;\">\n",
       "      <th></th>\n",
       "      <th>id</th>\n",
       "      <th>title</th>\n",
       "      <th>director</th>\n",
       "      <th>year</th>\n",
       "      <th>Length_minutes</th>\n",
       "      <th>Movie_id</th>\n",
       "      <th>Rating</th>\n",
       "      <th>Domestic_sales</th>\n",
       "      <th>International_sales</th>\n",
       "    </tr>\n",
       "  </thead>\n",
       "  <tbody>\n",
       "    <tr>\n",
       "      <th>0</th>\n",
       "      <td>87</td>\n",
       "      <td>WALL-G</td>\n",
       "      <td>Brenda Chapman</td>\n",
       "      <td>2042</td>\n",
       "      <td>97</td>\n",
       "      <td>None</td>\n",
       "      <td>None</td>\n",
       "      <td>None</td>\n",
       "      <td>None</td>\n",
       "    </tr>\n",
       "  </tbody>\n",
       "</table>\n",
       "</div>"
      ],
      "text/plain": [
       "   id   title        director  year  Length_minutes Movie_id Rating  \\\n",
       "0  87  WALL-G  Brenda Chapman  2042              97     None   None   \n",
       "\n",
       "  Domestic_sales International_sales  \n",
       "0           None                None  "
      ]
     },
     "execution_count": 152,
     "metadata": {},
     "output_type": "execute_result"
    }
   ],
   "source": [
    "query = '''\n",
    "    SELECT * FROM Movies AS M\n",
    "    LEFT JOIN Boxoffice AS B\n",
    "    ON B.Movie_id = M.id\n",
    "    where B.Movie_id IS NULL;\n",
    "'''\n",
    "\n",
    "pd.read_sql_query(query, connection)"
   ]
  },
  {
   "cell_type": "markdown",
   "id": "2b5b2843",
   "metadata": {},
   "source": [
    "<hr>\n",
    "<hr>\n",
    "<hr>\n",
    "<hr>\n",
    "<hr>\n",
    "<hr>\n",
    "<hr>\n",
    "<hr>"
   ]
  },
  {
   "cell_type": "markdown",
   "id": "8880d1eb",
   "metadata": {},
   "source": [
    "# Lessons"
   ]
  },
  {
   "cell_type": "markdown",
   "id": "fb35e048",
   "metadata": {},
   "source": [
    "### Table of Contents"
   ]
  },
  {
   "cell_type": "markdown",
   "id": "eb0f7822",
   "metadata": {},
   "source": [
    "## SQL Lesson 1: SELECT queries 101"
   ]
  },
  {
   "cell_type": "markdown",
   "id": "57e2709e",
   "metadata": {},
   "source": [
    "#### Simple Queries\n",
    "- SQL Lesson 1: SELECT queries 101\n",
    "- SQL Lesson 2: Queries with constraints (Pt. 1)\n",
    "- SQL Lesson 3: Queries with constraints (Pt. 2)\n",
    "- SQL Lesson 4: Filtering and sorting Query results\n",
    "- SQL Review: Simple SELECT Queries\n",
    "\n",
    "#### Advanced Queries\n",
    "- SQL Lesson 6: Multi-table queries with JOINs\n",
    "- SQL Lesson 7: OUTER JOINs\n",
    "- SQL Lesson 7: OUTER JOINs\n",
    "- SQL Lesson 9: Queries with expressions\n",
    "- SQL Lesson 10: Queries with aggregates (Pt. 1)\n",
    "- SQL Lesson 11: Queries with aggregates (Pt. 2)\n",
    "- SQL Lesson 12: Order of execution of a Query\n",
    "\n",
    "#### Rows\n",
    "- SQL Lesson 13: Inserting rows\n",
    "- SQL Lesson 14: Updating rows\n",
    "- SQL Lesson 15: Deleting rows\n",
    "\n",
    "#### Tables\n",
    "- SQL Lesson 16: Creating tables\n",
    "- SQL Lesson 17: Altering tables\n",
    "- SQL Lesson 18: Dropping tables"
   ]
  },
  {
   "cell_type": "markdown",
   "id": "04baad23",
   "metadata": {},
   "source": [
    "To retrieve data from a SQL database, we need to write `SELECT` statements, which are often colloquially refered to as queries. A query in itself is just a statement which declares what data we are looking for, where to find it in the database, and optionally, how to transform it before it is returned. It has a specific syntax though, which is what we are going to learn in the following exercises."
   ]
  },
  {
   "cell_type": "markdown",
   "id": "35aa72a5",
   "metadata": {},
   "source": [
    "As we mentioned in the introduction, you can think of a table in SQL as a type of an entity (ie. Dogs), and each row in that table as a specific instance of that type (ie. A pug, a beagle, a different colored pug, etc). This means that the columns would then represent the common properties shared by all instances of that entity (ie. Color of fur, length of tail, etc)."
   ]
  },
  {
   "cell_type": "markdown",
   "id": "c473e3aa",
   "metadata": {},
   "source": [
    "And given a table of data, the most basic query we could write would be one that selects for a couple columns (properties) of the table with all the rows (instances)."
   ]
  },
  {
   "cell_type": "code",
   "execution_count": null,
   "id": "eb373c05",
   "metadata": {},
   "outputs": [],
   "source": [
    "# Select query for a specific columns\n",
    "\n",
    "'''\n",
    "    SELECT column, another_column, …\n",
    "    FROM mytable;\n",
    "'''"
   ]
  },
  {
   "cell_type": "markdown",
   "id": "6eb46b4d",
   "metadata": {},
   "source": [
    "The result of this query will be a two-dimensional set of rows and columns, effectively a copy of the table, but only with the columns that we requested."
   ]
  },
  {
   "cell_type": "markdown",
   "id": "3d4d0677",
   "metadata": {},
   "source": [
    "If we want to retrieve absolutely all the columns of data from a table, we can then use the asterisk (*) shorthand in place of listing all the column names individually."
   ]
  },
  {
   "cell_type": "code",
   "execution_count": null,
   "id": "4f7248e1",
   "metadata": {},
   "outputs": [],
   "source": [
    "# Select query for all columns\n",
    "'''\n",
    "    SELECT * \n",
    "    FROM mytable;\n",
    "'''"
   ]
  },
  {
   "cell_type": "markdown",
   "id": "5cb284e5",
   "metadata": {},
   "source": [
    "This query, in particular, is really useful because it's a simple way to inspect a table by dumping all the data at once."
   ]
  },
  {
   "cell_type": "markdown",
   "id": "7275d74c",
   "metadata": {},
   "source": [
    "### Exercises"
   ]
  },
  {
   "cell_type": "code",
   "execution_count": null,
   "id": "791e0935",
   "metadata": {},
   "outputs": [],
   "source": [
    "# 1. Find the title of each film \n",
    "'''\n",
    "    SELECT title FROM movies;\n",
    "'''\n",
    "\n",
    "# 2. Find the director of each film\n",
    "'''\n",
    "    SELECT director FROM movies; \n",
    "'''\n",
    "\n",
    "# 3. Find the title and director of each film\n",
    "'''\n",
    "    SELECT title, director FROM movies; \n",
    "'''\n",
    "\n",
    "# 4. Find the title and year of each film \n",
    "'''\n",
    "    SELECT title, year FROM movies; \n",
    "'''\n",
    "\n",
    "# 5. Find all the information about each film\n",
    "'''\n",
    "    SELECT * FROM movies; \n",
    "'''"
   ]
  },
  {
   "cell_type": "markdown",
   "id": "70ab4314",
   "metadata": {},
   "source": [
    "## SQL Lesson 2: Queries with constraints (Pt. 1)"
   ]
  },
  {
   "cell_type": "markdown",
   "id": "d2a41561",
   "metadata": {},
   "source": [
    "Now we know how to select for specific columns of data from a table, but if you had a table with a hundred million rows of data, reading through all the rows would be inefficient and perhaps even impossible."
   ]
  },
  {
   "cell_type": "markdown",
   "id": "ca97a52e",
   "metadata": {},
   "source": [
    "In order to filter certain results from being returned, we need to use a `WHERE` clause in the query. The clause is applied to each row of data by checking specific column values to determine whether it should be included in the results or not."
   ]
  },
  {
   "cell_type": "code",
   "execution_count": null,
   "id": "394ff474",
   "metadata": {},
   "outputs": [],
   "source": [
    "# Select query with constraints\n",
    "\n",
    "'''\n",
    "    SELECT column, another_column, …\n",
    "    FROM mytable\n",
    "    WHERE condition\n",
    "        AND/OR another_condition\n",
    "        AND/OR …;\n",
    "'''"
   ]
  },
  {
   "cell_type": "markdown",
   "id": "d99ae915",
   "metadata": {},
   "source": [
    "More complex clauses can be constructed by joining numerous `AND` or `OR` logical keywords (ie. num_wheels >= 4 AND doors <= 2). And below are some useful operators that you can use for numerical data (ie. integer or floating point):"
   ]
  },
  {
   "cell_type": "markdown",
   "id": "5562a76b",
   "metadata": {},
   "source": [
    "- =, !=, < <=, >, >=\n",
    "    - Standard numerical operators\n",
    "    - col_name != 4\n",
    "\n",
    "- BETWEEN … AND … \n",
    "    - Number is within range of two values (inclusive)\n",
    "    - col_name BETWEEN 1.5 AND 10.5\n",
    "- NOT BETWEEN … AND …\n",
    "    - Number is not within range of two values (inclusive)\n",
    "    - col_name NOT BETWEEN 1 AND 10\n",
    "- IN (…)\n",
    "    - Number exists in a list\n",
    "    - col_name IN (2, 4, 6)\n",
    "- NOT IN (…)\n",
    "    - Number does not exist in a list\n",
    "    - col_name NOT IN (1, 3, 5)"
   ]
  },
  {
   "cell_type": "code",
   "execution_count": null,
   "id": "052c551d",
   "metadata": {},
   "outputs": [],
   "source": [
    "# 1. Find the movie with a row id of 6\n",
    "'''\n",
    "    SELECT id, title FROM movies \n",
    "    WHERE id = 6;\n",
    "'''\n",
    "\n",
    "# 2. Find the movies released in the years between 2000 and 2010\n",
    "'''\n",
    "    SELECT title, year FROM movies\n",
    "    WHERE year BETWEEN 2000 AND 2010;\n",
    "'''\n",
    "\n",
    "# 3. Find the movies not released in the years between 2000 and 2010\n",
    "'''\n",
    "    SELECT title, year FROM movies\n",
    "    WHERE year < 2000 OR year > 2010;\n",
    "'''\n",
    "\n",
    "# 4. Find the first 5 Pixar movies and their release year\n",
    "'''\n",
    "    SELECT title, year FROM movies\n",
    "    WHERE year <= 2003;\n",
    "'''"
   ]
  },
  {
   "cell_type": "code",
   "execution_count": 4,
   "id": "d3c074fe",
   "metadata": {},
   "outputs": [],
   "source": [
    "query3 = '''\n",
    "SELECT *\n",
    "FROM CUSTOMER\n",
    "WHERE CUST_COUNTRY=\"UK\"\n",
    "    AND OPENING_AMT > 5000\n",
    "'''\n",
    "query4 = '''\n",
    "SELECT *\n",
    "FROM CUSTOMER\n",
    "WHERE OPENING_AMT not in (6000, 7000, 8000)\n",
    "    or PAYMENT_AMT between 6500 and 7500\n",
    "'''\n",
    "query5 = '''\n",
    "SELECT *\n",
    "FROM CUSTOMER\n",
    "WHERE CUST_CITY IN (\"London\", \"New York\")\n",
    "    AND OPENING_AMT > 3000\n",
    "'''\n",
    "\n",
    "# df.to_sql('test', connection)\n",
    "# query = '''DROP TABLE test;'''\n",
    "\n",
    "# pd.read_sql_query(query5, connection)\n",
    "\n",
    "query6 = '''\n",
    "SELECT *\n",
    "FROM CUSTOMER\n",
    "WHERE CUST_CITY LIKE 'London'\n",
    "'''\n",
    "\n",
    "query7 = '''\n",
    "SELECT *\n",
    "FROM CUSTOMER\n",
    "WHERE CUST_CITY LIKE 'Lon%'\n",
    "'''\n",
    "query8 = '''\n",
    "SELECT *\n",
    "FROM CUSTOMER\n",
    "WHERE CUST_CITY LIKE 'Londo_'\n",
    "'''"
   ]
  },
  {
   "cell_type": "markdown",
   "id": "d2cbe7e3",
   "metadata": {},
   "source": [
    "## SQL Lesson 3: Queries with constraints (Pt. 2)"
   ]
  },
  {
   "cell_type": "markdown",
   "id": "d2c7ed20",
   "metadata": {},
   "source": [
    "When writing `WHERE` clauses with columns containing text data, SQL supports a number of useful operators to do things like case-insensitive string comparison and wildcard pattern matching. We show a few common text-data specific operators below:"
   ]
  },
  {
   "cell_type": "markdown",
   "id": "1c5e7ded",
   "metadata": {},
   "source": [
    "- =\n",
    "    - Case sensitive exact string comparison (notice the single equals)\n",
    "    - col_name = \"abc\"\n",
    "- != or <>\n",
    "    - Case sensitive exact string inequality comparison\n",
    "    - col_name != \"abcd\"\n",
    "- LIKE\n",
    "    - Case insensitive exact string comparison\n",
    "    - col_name LIKE \"ABC\"\n",
    "- NOT LIKE\n",
    "    - Case insensitive exact string inequality comparison\n",
    "    - col_name NOT LIKE \"ABCD\"\n",
    "- %\n",
    "    - Used anywhere in a string to match a sequence of zero or more characters (only with LIKE or NOT LIKE)\t\n",
    "    - col_name LIKE \"%AT%\" (matches \"AT\", \"ATTIC\", \"CAT\" or even \"BATS\")\n",
    "- _\n",
    "    - Used anywhere in a string to match a single character (only with LIKE or NOT LIKE)\n",
    "    - col_name LIKE \"AN_\" (matches \"AND\", but not \"AN\")"
   ]
  },
  {
   "cell_type": "code",
   "execution_count": null,
   "id": "ff4a5f3d",
   "metadata": {},
   "outputs": [],
   "source": [
    "# Select query with constraints\n",
    "\n",
    "'''\n",
    "    SELECT column, another_column, …\n",
    "    FROM mytable\n",
    "    WHERE condition\n",
    "        AND/OR another_condition\n",
    "        AND/OR …;\n",
    "'''"
   ]
  },
  {
   "cell_type": "markdown",
   "id": "4f1ac9e2",
   "metadata": {},
   "source": [
    "<div style=\"background-color: lightgreen; padding: 5px; border-radius: 5px;\">All strings must be quoted so that the query parser can distinguish words in the string from SQL keywords.</div>"
   ]
  },
  {
   "cell_type": "markdown",
   "id": "436d0315",
   "metadata": {},
   "source": [
    "### Exercises"
   ]
  },
  {
   "cell_type": "code",
   "execution_count": null,
   "id": "7ce2c231",
   "metadata": {},
   "outputs": [],
   "source": [
    "# 1. Find all the Toy Story movies\n",
    "'''\n",
    "    SELECT title, director FROM movies \n",
    "    WHERE title LIKE \"Toy Story%\";\n",
    "'''\n",
    "\n",
    "# 2. Find all the movies directed by John Lasseter\n",
    "'''\n",
    "    SELECT title, director FROM movies \n",
    "    WHERE director = \"John Lasseter\";\n",
    "'''\n",
    "\n",
    "# 3. Find all the movies (and director) not directed by John Lasseter\n",
    "'''\n",
    "    SELECT title, director FROM movies \n",
    "    WHERE director != \"John Lasseter\";\n",
    "'''\n",
    "\n",
    "# 4. Find all the WALL-* movies\n",
    "'''\n",
    "    SELECT * FROM movies \n",
    "    WHERE title LIKE \"WALL-_\";\n",
    "'''"
   ]
  },
  {
   "cell_type": "markdown",
   "id": "6f1633bc",
   "metadata": {},
   "source": [
    "## SQL Lesson 4: Filtering and sorting Query results"
   ]
  },
  {
   "cell_type": "markdown",
   "id": "16083c7b",
   "metadata": {},
   "source": [
    "### Distinct/unique results"
   ]
  },
  {
   "cell_type": "markdown",
   "id": "a1cdc8c4",
   "metadata": {},
   "source": [
    "Even though the data in a database may be unique, the results of any particular query may not be – take our Movies table for example, many different movies can be released the same year. In such cases, SQL provides a convenient way to discard rows that have a duplicate column value by using the `DISTINCT` keyword."
   ]
  },
  {
   "cell_type": "code",
   "execution_count": null,
   "id": "0a2cfa91",
   "metadata": {},
   "outputs": [],
   "source": [
    "# Select query with unique results\n",
    "\n",
    "'''\n",
    "SELECT DISTINCT column, another_column, …\n",
    "FROM mytable\n",
    "WHERE condition(s);\n",
    "'''"
   ]
  },
  {
   "cell_type": "markdown",
   "id": "71ac61cb",
   "metadata": {},
   "source": [
    "Since the `DISTINCT` keyword will blindly remove duplicate rows, we will learn in a future lesson how to discard duplicates based on specific columns using grouping and the `GROUP BY` clause."
   ]
  },
  {
   "cell_type": "markdown",
   "id": "8780279c",
   "metadata": {},
   "source": [
    "### Ordering results"
   ]
  },
  {
   "cell_type": "markdown",
   "id": "9cd98109",
   "metadata": {},
   "source": [
    "Unlike our neatly ordered table in the last few lessons, most data in real databases are added in no particular column order. As a result, it can be difficult to read through and understand the results of a query as the size of a table increases to thousands or even millions rows.\n",
    "\n",
    "To help with this, SQL provides a way to sort your results by a given column in ascending or descending order using the `ORDER BY` clause."
   ]
  },
  {
   "cell_type": "code",
   "execution_count": null,
   "id": "7d3bb68b",
   "metadata": {},
   "outputs": [],
   "source": [
    "# Select query with ordered results\n",
    "\n",
    "'''\n",
    "    SELECT column, another_column, …\n",
    "    FROM mytable\n",
    "    WHERE condition(s)\n",
    "    ORDER BY column ASC/DESC;\n",
    "'''"
   ]
  },
  {
   "cell_type": "markdown",
   "id": "8676f52a",
   "metadata": {},
   "source": [
    "When an `ORDER BY` clause is specified, each row is sorted alpha-numerically based on the specified column's value. In some databases, you can also specify a collation to better sort data containing international text."
   ]
  },
  {
   "cell_type": "markdown",
   "id": "625d4e30",
   "metadata": {},
   "source": [
    "### Limiting results to a subset"
   ]
  },
  {
   "cell_type": "markdown",
   "id": "0d941c24",
   "metadata": {},
   "source": [
    "Another clause which is commonly used with the `ORDER BY` clause are the `LIMIT` and `OFFSET` clauses, which are a useful optimization to indicate to the database the subset of the results you care about.\n",
    "The `LIMIT` will reduce the number of rows to return, and the optional `OFFSET` will specify where to begin counting the number rows from."
   ]
  },
  {
   "cell_type": "code",
   "execution_count": null,
   "id": "834ccf03",
   "metadata": {},
   "outputs": [],
   "source": [
    "# Select query with limited rows\n",
    "\n",
    "'''\n",
    "    SELECT column, another_column, …\n",
    "    FROM mytable\n",
    "    WHERE condition(s)\n",
    "    ORDER BY column ASC/DESC\n",
    "    LIMIT num_limit OFFSET num_offset;\n",
    "'''"
   ]
  },
  {
   "cell_type": "markdown",
   "id": "76b625aa",
   "metadata": {},
   "source": [
    "### Exercises"
   ]
  },
  {
   "cell_type": "code",
   "execution_count": null,
   "id": "86946e4a",
   "metadata": {},
   "outputs": [],
   "source": [
    "# 1. List all directors of Pixar movies (alphabetically), without duplicates\n",
    "'''\n",
    "    SELECT DISTINCT Director FROM movies\n",
    "    ORDER BY Director ASC;\n",
    "'''\n",
    "\n",
    "# 2. List the last four Pixar movies released (ordered from most recent to least)\n",
    "'''\n",
    "    SELECT * from Movies\n",
    "    ORDER BY Year desc\n",
    "    limit 4;\n",
    "'''\n",
    "\n",
    "# 3. List the first five Pixar movies sorted alphabetically\n",
    "'''\n",
    "    SELECT * from Movies\n",
    "    ORDER BY Title asc, Year asc\n",
    "    limit 5;\n",
    "'''\n",
    "\n",
    "# 4. List the next five Pixar movies sorted alphabetically\n",
    "'''\n",
    "    SELECT * from Movies\n",
    "    ORDER BY Title asc, Year asc\n",
    "    limit 5 offset 5;\n",
    "'''"
   ]
  },
  {
   "cell_type": "markdown",
   "id": "554584df",
   "metadata": {},
   "source": [
    "## SQL Review: Simple SELECT Queries"
   ]
  },
  {
   "cell_type": "markdown",
   "id": "f79a64fd",
   "metadata": {},
   "source": [
    "### Exercises"
   ]
  },
  {
   "cell_type": "code",
   "execution_count": null,
   "id": "913f3015",
   "metadata": {},
   "outputs": [],
   "source": [
    "# 1. List all the Canadian cities and their populations\n",
    "'''\n",
    "    SELECT * FROM north_american_cities\n",
    "    WHERE Country = 'Canada'\n",
    "'''\n",
    "\n",
    "# 2. Order all the cities in the United States by their latitude from north to south \n",
    "'''\n",
    "    SELECT * FROM north_american_cities\n",
    "    WHERE Country = 'United States'\n",
    "    ORDER BY Latitude desc;\n",
    "'''\n",
    "\n",
    "# 3. List all the cities west of Chicago, ordered from west to east\n",
    "'''\n",
    "    SELECT * FROM north_american_cities\n",
    "    WHERE Longitude < -87.629798\n",
    "    ORDER BY longitude asc;\n",
    "'''\n",
    "\n",
    "# 4. List the two largest cities in Mexico (by population)\n",
    "'''\n",
    "    SELECT * FROM north_american_cities\n",
    "    WHERE Country = 'Mexico'\n",
    "    ORDER BY population desc\n",
    "    limit 2;\n",
    "'''\n",
    "\n",
    "# 5. List the third and fourth largest cities (by population) in the United States and their population \n",
    "'''\n",
    "    SELECT * FROM north_american_cities\n",
    "    WHERE Country = 'United States'\n",
    "    ORDER BY population desc\n",
    "    limit 2 offset 2;\n",
    "'''"
   ]
  },
  {
   "cell_type": "markdown",
   "id": "ae065f41",
   "metadata": {},
   "source": [
    "## SQL Lesson 6: Multi-table queries with JOINs"
   ]
  },
  {
   "cell_type": "markdown",
   "id": "a1cfcf2c",
   "metadata": {},
   "source": [
    "Up to now, we've been working with a single table, but entity data in the real world is often broken down into pieces and stored across multiple orthogonal tables using a process known as normalization"
   ]
  },
  {
   "cell_type": "markdown",
   "id": "45afde53",
   "metadata": {},
   "source": [
    "### Database normalization"
   ]
  },
  {
   "cell_type": "markdown",
   "id": "9d061248",
   "metadata": {},
   "source": [
    "Database normalization is useful because it minimizes duplicate data in any single table, and allows for data in the database to grow independently of each other (ie. Types of car engines can grow independent of each type of car). As a trade-off, queries get slightly more complex since they have to be able to find data from different parts of the database, and performance issues can arise when working with many large tables."
   ]
  },
  {
   "cell_type": "markdown",
   "id": "1e3658c7",
   "metadata": {},
   "source": [
    "In order to answer questions about an entity that has data spanning multiple tables in a normalized database, we need to learn how to write a query that can combine all that data and pull out exactly the information we need."
   ]
  },
  {
   "cell_type": "markdown",
   "id": "929d27b6",
   "metadata": {},
   "source": [
    "### Multi-table queries with JOINs"
   ]
  },
  {
   "cell_type": "markdown",
   "id": "93485d6b",
   "metadata": {},
   "source": [
    "Tables that share information about a single entity need to have a primary key that identifies that entity uniquely across the database. One common primary key type is an auto-incrementing integer (because they are space efficient), but it can also be a string, hashed value, so long as it is unique."
   ]
  },
  {
   "cell_type": "markdown",
   "id": "a71a7adf",
   "metadata": {},
   "source": [
    "Using the `JOIN` clause in a query, we can combine row data across two separate tables using this unique key. The first of the joins that we will introduce is the `INNER JOIN`."
   ]
  },
  {
   "cell_type": "code",
   "execution_count": null,
   "id": "fd949990",
   "metadata": {},
   "outputs": [],
   "source": [
    "# Select query with INNER JOIN on multiple tables\n",
    "\n",
    "'''\n",
    "    SELECT column, another_table_column, …\n",
    "    FROM mytable\n",
    "    INNER JOIN another_table \n",
    "        ON mytable.id = another_table.id\n",
    "    WHERE condition(s)\n",
    "    ORDER BY column, … ASC/DESC\n",
    "    LIMIT num_limit OFFSET num_offset;\n",
    "'''"
   ]
  },
  {
   "cell_type": "markdown",
   "id": "7a1d985d",
   "metadata": {},
   "source": [
    "The `INNER JOIN` is a process that matches rows from the first table and the second table which have the same key (as defined by the `ON` constraint) to create a result row with the combined columns from both tables. After the tables are joined, the other clauses we learned previously are then applied."
   ]
  },
  {
   "cell_type": "markdown",
   "id": "77404556",
   "metadata": {},
   "source": [
    "### Exercises"
   ]
  },
  {
   "cell_type": "code",
   "execution_count": null,
   "id": "63e56216",
   "metadata": {},
   "outputs": [],
   "source": [
    "# 1. Find the domestic and international sales for each movie\n",
    "'''\n",
    "    SELECT * FROM movies\n",
    "    inner join Boxoffice\n",
    "    on movies.id = Boxoffice.Movie_id;\n",
    "'''\n",
    "\n",
    "# 2. Show the sales numbers for each movie that did better internationally rather than domestically\n",
    "'''\n",
    "    SELECT * FROM movies\n",
    "    inner join Boxoffice\n",
    "    on movies.id = Boxoffice.Movie_id\n",
    "    where international_sales > domestic_sales;\n",
    "'''\n",
    "\n",
    "# 3. List all the movies by their ratings in descending order\n",
    "'''\n",
    "    SELECT * FROM movies\n",
    "    inner join Boxoffice\n",
    "    on movies.id = Boxoffice.Movie_id\n",
    "    order by Rating desc;\n",
    "'''"
   ]
  },
  {
   "cell_type": "markdown",
   "id": "6f53cd4b",
   "metadata": {},
   "source": [
    "## SQL Lesson 7: OUTER JOINs"
   ]
  },
  {
   "cell_type": "markdown",
   "id": "189e72e4",
   "metadata": {},
   "source": [
    "Depending on how you want to analyze the data, the `INNER JOIN` we used last lesson might not be sufficient because the resulting table only contains data that belongs in both of the tables."
   ]
  },
  {
   "cell_type": "markdown",
   "id": "fc600e91",
   "metadata": {},
   "source": [
    "If the two tables have asymmetric data, which can easily happen when data is entered in different stages, then we would have to use a `LEFT JOIN`, `RIGHT JOIN` or `FULL JOIN` instead to ensure that the data you need is not left out of the results."
   ]
  },
  {
   "cell_type": "code",
   "execution_count": null,
   "id": "cdb15ca2",
   "metadata": {},
   "outputs": [],
   "source": [
    "# Select query with LEFT/RIGHT/FULL JOINs on multiple tables\n",
    "\n",
    "'''\n",
    "    SELECT column, another_column, …\n",
    "    FROM mytable\n",
    "    INNER/LEFT/RIGHT/FULL JOIN another_table \n",
    "        ON mytable.id = another_table.matching_id\n",
    "    WHERE condition(s)\n",
    "    ORDER BY column, … ASC/DESC\n",
    "    LIMIT num_limit OFFSET num_offset;\n",
    "'''"
   ]
  },
  {
   "cell_type": "markdown",
   "id": "835dffa2",
   "metadata": {},
   "source": [
    "Like the `INNER JOIN` these three new joins have to specify which column to join the data on.\n",
    "When joining table A to table B, a `LEFT JOIN` simply includes rows from A regardless of whether a matching row is found in B. The `RIGHT JOIN` is the same, but reversed, keeping rows in B regardless of whether a match is found in A. Finally, a `FULL JOIN` simply means that rows from both tables are kept, regardless of whether a matching row exists in the other table."
   ]
  },
  {
   "cell_type": "markdown",
   "id": "7f4cea6d",
   "metadata": {},
   "source": [
    "When using any of these new joins, you will likely have to write additional logic to deal with `NULL`'s in the result and constraints (more on this in the next lesson)."
   ]
  },
  {
   "cell_type": "markdown",
   "id": "9d8d6e72",
   "metadata": {},
   "source": [
    "### Exercises"
   ]
  },
  {
   "cell_type": "code",
   "execution_count": null,
   "id": "2911e548",
   "metadata": {},
   "outputs": [],
   "source": [
    "# 1. Find the list of all buildings that have employees\n",
    "'''\n",
    "    SELECT distinct building FROM employees\n",
    "    inner join Buildings\n",
    "    on Buildings.Building_name = employees.Building;\n",
    "'''\n",
    "\n",
    "# 2. Find the list of all buildings and their capacity\n",
    "'''\n",
    "    select * FROM Buildings;\n",
    "'''\n",
    "\n",
    "# 3. List all buildings and the distinct employee roles in each building (including empty buildings) \n",
    "'''\n",
    "    SELECT DISTINCT Building_name, Role FROM Buildings\n",
    "    left JOIN Employees\n",
    "    ON Buildings.Building_name = Employees.Building;\n",
    "'''"
   ]
  },
  {
   "cell_type": "markdown",
   "id": "2694dc24",
   "metadata": {},
   "source": [
    "## SQL Lesson 8: A short note on NULLs"
   ]
  },
  {
   "cell_type": "markdown",
   "id": "d880dba9",
   "metadata": {},
   "source": [
    "As promised in the last lesson, we are going to quickly talk about `NULL` values in an SQL database. It's always good to reduce the possibility of `NULL` values in databases because they require special attention when constructing queries, constraints (certain functions behave differently with null values) and when processing the results."
   ]
  },
  {
   "cell_type": "markdown",
   "id": "fa10c826",
   "metadata": {},
   "source": [
    "An alternative to `NULL` values in your database is to have `data-type appropriate default values`, like 0 for numerical data, empty strings for text data, etc. But if your database needs to store incomplete data, then `NULL` values can be appropriate if the default values will skew later analysis (for example, when taking averages of numerical data)."
   ]
  },
  {
   "cell_type": "markdown",
   "id": "3a109a0b",
   "metadata": {},
   "source": [
    "Sometimes, it's also not possible to avoid `NULL` values, as we saw in the last lesson when outer-joining two tables with asymmetric data. In these cases, you can test a column for `NULL` values in a `WHERE` clause by using either the `IS NULL` or `IS NOT NULL` constraint."
   ]
  },
  {
   "cell_type": "code",
   "execution_count": null,
   "id": "c654bef6",
   "metadata": {},
   "outputs": [],
   "source": [
    "# Select query with constraints on NULL values\n",
    "\n",
    "'''\n",
    "    SELECT column, another_column, …\n",
    "    FROM mytable\n",
    "    WHERE column IS/IS NOT NULL\n",
    "    AND/OR another_condition\n",
    "    AND/OR …;\n",
    "'''"
   ]
  },
  {
   "cell_type": "markdown",
   "id": "33d4951c",
   "metadata": {},
   "source": [
    "### Exercises"
   ]
  },
  {
   "cell_type": "code",
   "execution_count": null,
   "id": "7b83b5fb",
   "metadata": {},
   "outputs": [],
   "source": [
    "# 1. Find the name and role of all employees who have not been assigned to a building\n",
    "'''\n",
    "    SELECT * FROM employees\n",
    "    where Building IS NULL;\n",
    "'''\n",
    "\n",
    "# 2. Find the names of the buildings that hold no employees\n",
    "'''\n",
    "    SELECT * FROM Buildings\n",
    "    left JOIN Employees\n",
    "    on Employees.Building = Buildings.Building_name\n",
    "    where Name is NULL;\n",
    "'''\n",
    "\n",
    "# 3. List all movies that were released on even number years \n",
    "'''\n",
    "    SELECT *\n",
    "    FROM movies\n",
    "      JOIN boxoffice\n",
    "        ON movies.id = boxoffice.movie_id\n",
    "         WHERE Year % 2 == 0;\n",
    "'''"
   ]
  },
  {
   "cell_type": "markdown",
   "id": "a368e104",
   "metadata": {},
   "source": [
    "## SQL Lesson 9: Queries with expressions"
   ]
  },
  {
   "cell_type": "markdown",
   "id": "37313859",
   "metadata": {},
   "source": [
    "In addition to querying and referencing raw column data with SQL, you can also use expressions to write more complex logic on column values in a query. These expressions can use mathematical and string functions along with basic arithmetic to transform values when the query is executed, as shown in this physics example."
   ]
  },
  {
   "cell_type": "code",
   "execution_count": 16,
   "id": "9d0b05c9",
   "metadata": {},
   "outputs": [],
   "source": [
    "# Example query with expressions\n",
    "\n",
    "'''\n",
    "    SELECT particle_speed / 2.0 AS half_particle_speed\n",
    "    FROM physics_data\n",
    "    WHERE ABS(particle_position) * 10.0 > 500;\n",
    "'''"
   ]
  },
  {
   "cell_type": "markdown",
   "id": "662d8ecd",
   "metadata": {},
   "source": [
    "Each database has its own supported set of mathematical, string, and date functions that can be used in a query, which you can find in their own respective docs."
   ]
  },
  {
   "cell_type": "markdown",
   "id": "d0c49802",
   "metadata": {},
   "source": [
    "The use of expressions can save time and extra post-processing of the result data, but can also make the query harder to read, so we recommend that when expressions are used in the `SELECT` part of the query, that they are also given a descriptive alias using the `AS` keyword."
   ]
  },
  {
   "cell_type": "code",
   "execution_count": null,
   "id": "1ea70991",
   "metadata": {},
   "outputs": [],
   "source": [
    "# Select query with expression aliases\n",
    "\n",
    "'''\n",
    "    SELECT col_expression AS expr_description, …\n",
    "    FROM mytable;\n",
    "'''"
   ]
  },
  {
   "cell_type": "markdown",
   "id": "f3529fc8",
   "metadata": {},
   "source": [
    "In addition to expressions, regular columns and even tables can also have aliases to make them easier to reference in the output and as a part of simplifying more complex queries."
   ]
  },
  {
   "cell_type": "code",
   "execution_count": 18,
   "id": "44395608",
   "metadata": {
    "scrolled": true
   },
   "outputs": [],
   "source": [
    "# Example query with both column and table name aliases\n",
    "\n",
    "'''\n",
    "    SELECT column AS better_column_name, …\n",
    "    FROM a_long_widgets_table_name AS mywidgets\n",
    "    INNER JOIN widget_sales\n",
    "      ON mywidgets.id = widget_sales.widget_id;\n",
    "'''"
   ]
  },
  {
   "cell_type": "markdown",
   "id": "9400c3f9",
   "metadata": {},
   "source": [
    "### Exercises"
   ]
  },
  {
   "cell_type": "code",
   "execution_count": null,
   "id": "7d9dbe33",
   "metadata": {},
   "outputs": [],
   "source": [
    "# 1. List all movies and their combined sales in millions of dollars\n",
    "''''\n",
    "    SELECT title, (domestic_sales + international_sales) / 1000000 AS gross_sales_millions\n",
    "    FROM movies\n",
    "      JOIN boxoffice\n",
    "        ON movies.id = boxoffice.movie_id;\n",
    "'''\n",
    "\n",
    "# 2. List all movies and their ratings in percent\n",
    "'''\n",
    "    SELECT title, rating * 10 AS rating_percent\n",
    "    FROM movies\n",
    "      JOIN boxoffice\n",
    "        ON movies.id = boxoffice.movie_id;\n",
    "'''"
   ]
  },
  {
   "cell_type": "markdown",
   "id": "e5b9fbdc",
   "metadata": {},
   "source": [
    "## SQL Lesson 10: Queries with aggregates (Pt. 1)"
   ]
  },
  {
   "cell_type": "markdown",
   "id": "81df8f5a",
   "metadata": {},
   "source": [
    "In addition to the simple expressions that we introduced last lesson, SQL also supports the use of aggregate expressions (or functions) that allow you to summarize information about a group of rows of data. With the Pixar database that you've been using, aggregate functions can be used to answer questions like, \"How many movies has Pixar produced?\", or \"What is the highest grossing Pixar film each year?\"."
   ]
  },
  {
   "cell_type": "code",
   "execution_count": 4,
   "id": "2cec3ccc",
   "metadata": {},
   "outputs": [],
   "source": [
    "# Select query with aggregate functions over all rows\n",
    "\n",
    "'''\n",
    "    SELECT AGG_FUNC(column_or_expression) AS aggregate_description, …\n",
    "    FROM mytable\n",
    "    WHERE constraint_expression;\n",
    "'''"
   ]
  },
  {
   "cell_type": "markdown",
   "id": "9a718b2f",
   "metadata": {},
   "source": [
    "Without a specified grouping, each aggregate function is going to run on the whole set of result rows and return a single value. And like normal expressions, giving your aggregate functions an alias ensures that the results will be easier to read and process."
   ]
  },
  {
   "cell_type": "markdown",
   "id": "a3de6a5d",
   "metadata": {},
   "source": [
    "### Common aggregate functions"
   ]
  },
  {
   "cell_type": "markdown",
   "id": "88fd5c89",
   "metadata": {},
   "source": [
    "Here are some common aggregate functions that we are going to use in our examples:\n",
    "- COUNT(*), COUNT(column)\n",
    "    - A common function used to counts the number of rows in the group if no column name is specified. Otherwise, count the number of rows in the group with non-NULL values in the specified column.\n",
    "- MIN(column)\n",
    "    - Finds the smallest numerical value in the specified column for all rows in the group.\n",
    "- MAX(column)\n",
    "    - Finds the largest numerical value in the specified column for all rows in the group.\n",
    "- AVG(column)\n",
    "    - Finds the average numerical value in the specified column for all rows in the group.\n",
    "- SUM(column)\n",
    "    - Finds the sum of all numerical values in the specified column for the rows in the group."
   ]
  },
  {
   "cell_type": "markdown",
   "id": "9316700c",
   "metadata": {},
   "source": [
    "### Grouped aggregate functions"
   ]
  },
  {
   "cell_type": "markdown",
   "id": "fe71d757",
   "metadata": {},
   "source": [
    "In addition to aggregating across all the rows, you can instead apply the aggregate functions to individual groups of data within that group (ie. box office sales for Comedies vs Action movies).\n",
    "This would then create as many results as there are unique groups defined as by the `GROUP BY` clause."
   ]
  },
  {
   "cell_type": "code",
   "execution_count": null,
   "id": "b5244282",
   "metadata": {},
   "outputs": [],
   "source": [
    "# Select query with aggregate functions over groups\n",
    "\n",
    "'''\n",
    "    SELECT AGG_FUNC(column_or_expression) AS aggregate_description, …\n",
    "    FROM mytable\n",
    "    WHERE constraint_expression\n",
    "    GROUP BY column;\n",
    "'''\n",
    "\n"
   ]
  },
  {
   "cell_type": "markdown",
   "id": "1379bc7c",
   "metadata": {},
   "source": [
    "The `GROUP BY` clause works by grouping rows that have the same value in the column specified."
   ]
  },
  {
   "cell_type": "markdown",
   "id": "78c7b993",
   "metadata": {},
   "source": [
    "### Exercises"
   ]
  },
  {
   "cell_type": "code",
   "execution_count": 6,
   "id": "a4e8cd36",
   "metadata": {},
   "outputs": [],
   "source": [
    "# 1. Find the longest time that an employee has been at the studio\n",
    "'''\n",
    "    SELECT *, max(years_employed) FROM employees;\n",
    "'''\n",
    "\n",
    "# 2. For each role, find the average number of years employed by employees in that role\n",
    "'''\n",
    "    SELECT *, avg(years_employed) FROM employees\n",
    "    group by role;\n",
    "'''\n",
    "\n",
    "# 3. Find the total number of employee years worked in each building\n",
    "'''\n",
    "    SELECT *, sum(years_employed) FROM employees\n",
    "    group by Building;\n",
    "'''"
   ]
  },
  {
   "cell_type": "markdown",
   "id": "a142ebc6",
   "metadata": {},
   "source": [
    "## SQL Lesson 11: Queries with aggregates (Pt. 2)"
   ]
  },
  {
   "cell_type": "markdown",
   "id": "e3c2031b",
   "metadata": {},
   "source": [
    "Our queries are getting fairly complex, but we have nearly introduced all the important parts of a `SELECT` query. One thing that you might have noticed is that if the `GROUP BY` clause is executed after the `WHERE` clause (which filters the rows which are to be grouped), then how exactly do we filter the grouped rows?"
   ]
  },
  {
   "cell_type": "markdown",
   "id": "5121e5aa",
   "metadata": {},
   "source": [
    "Luckily, SQL allows us to do this by adding an additional `HAVING` clause which is used specifically with the `GROUP BY` clause to allow us to filter grouped rows from the result set."
   ]
  },
  {
   "cell_type": "code",
   "execution_count": null,
   "id": "98e16aa7",
   "metadata": {},
   "outputs": [],
   "source": [
    "# Select query with HAVING constraint\n",
    "\n",
    "'''\n",
    "    SELECT group_by_column, AGG_FUNC(column_expression) AS aggregate_result_alias, …\n",
    "    FROM mytable\n",
    "    WHERE condition\n",
    "    GROUP BY column\n",
    "    HAVING group_condition;\n",
    "'''"
   ]
  },
  {
   "cell_type": "markdown",
   "id": "1752f138",
   "metadata": {},
   "source": [
    "The `HAVING` clause constraints are written the same way as the `WHERE` clause constraints, and are applied to the grouped rows. With our examples, this might not seem like a particularly useful construct, but if you imagine data with millions of rows with different properties, being able to apply additional constraints is often necessary to quickly make sense of the data."
   ]
  },
  {
   "cell_type": "markdown",
   "id": "84c3ac52",
   "metadata": {},
   "source": [
    "### Exercises"
   ]
  },
  {
   "cell_type": "code",
   "execution_count": null,
   "id": "9aa4c930",
   "metadata": {},
   "outputs": [],
   "source": [
    "# 1. Find the number of Artists in the studio (without a HAVING clause)\n",
    "'''\n",
    "    SELECT COUNT(Role) FROM employees\n",
    "    WHERE Role = 'Artist';\n",
    "'''\n",
    "\n",
    "# 2. Find the number of Employees of each role in the studio\n",
    "'''\n",
    "    SELECT role, COUNT(*)\n",
    "    FROM employees\n",
    "    GROUP BY role;\n",
    "'''\n",
    "\n",
    "# 3. Find the total number of years employed by all Engineers\n",
    "'''\n",
    "    SELECT Role, SUM(Years_employed) FROM employees\n",
    "    GROUP BY Role\n",
    "    Having Role = 'Engineer';\n",
    "'''\n"
   ]
  },
  {
   "cell_type": "markdown",
   "id": "bb50a4c5",
   "metadata": {},
   "source": [
    "## SQL Lesson 12: Order of execution of a Query"
   ]
  },
  {
   "cell_type": "markdown",
   "id": "54356004",
   "metadata": {},
   "source": [
    "Now that we have an idea of all the parts of a query, we can now talk about how they all fit together in the context of a complete query."
   ]
  },
  {
   "cell_type": "code",
   "execution_count": null,
   "id": "28c0f469",
   "metadata": {},
   "outputs": [],
   "source": [
    "# Complete SELECT query\n",
    "'''\n",
    "    SELECT DISTINCT column, AGG_FUNC(column_or_expression), …\n",
    "    FROM mytable\n",
    "        JOIN another_table\n",
    "          ON mytable.column = another_table.column\n",
    "        WHERE constraint_expression\n",
    "        GROUP BY column\n",
    "        HAVING constraint_expression\n",
    "        ORDER BY column ASC/DESC\n",
    "        LIMIT count OFFSET COUNT;\n",
    "'''"
   ]
  },
  {
   "cell_type": "markdown",
   "id": "0556bbdf",
   "metadata": {},
   "source": [
    "Each query begins with finding the data that we need in a database, and then filtering that data down into something that can be processed and understood as quickly as possible. Because each part of the query is executed sequentially, it's important to understand the order of execution so that you know what results are accessible where."
   ]
  },
  {
   "cell_type": "markdown",
   "id": "1f6a1990",
   "metadata": {},
   "source": [
    "### Query order of execution"
   ]
  },
  {
   "cell_type": "markdown",
   "id": "c48dfdaa",
   "metadata": {},
   "source": [
    "#### 1). FROM and JOIN\n",
    "The `FROM` clause, and subsequent `JOIN`'s are first executed to determine the total working set of data that is being queried. This includes subqueries in this clause, and can cause temporary tables to be created under the hood containing all the columns and rows of the tables being joined.\n",
    "\n",
    "#### 2). WHERE\n",
    "Once we have the total working set of data, the first-pass `WHERE` constraints are applied to the individual rows, and rows that do not satisfy the constraint are discarded. Each of the constraints can only access columns directly from the tables requested in the `FROM` clause. Aliases in the `SELECT` part of the query are not accessible in most databases since they may include expressions dependent on parts of the query that have not yet executed.\n",
    "\n",
    "#### 3). GROUP BY\n",
    "The remaining rows after the `WHERE` constraints are applied are then grouped based on common values in the column specified in the `GROUP BY` clause. As a result of the grouping, there will only be as many rows as there are unique values in that column. Implicitly, this means that you should only need to use this when you have aggregate functions in your query.\n",
    "\n",
    "#### 4). HAVING\n",
    "If the query has a `GROUP BY` clause, then the constraints in the `HAVING` clause are then applied to the grouped rows, discard the grouped rows that don't satisfy the constraint. Like the `WHERE` clause, aliases are also not accessible from this step in most databases.\n",
    "\n",
    "#### 5). SELECT\n",
    "Any expressions in the `SELECT` part of the query are finally computed.\n",
    "\n",
    "#### 6). DISTINCT\n",
    "Of the remaining rows, rows with duplicate values in the column marked as `DISTINCT` will be discarded.\n",
    "\n",
    "#### 7). ORDER BY\n",
    "If an order is specified by the `ORDER BY` clause, the rows are then sorted by the specified data in either ascending or descending order. Since all the expressions in the `SELECT` part of the query have been computed, you can reference aliases in this clause.\n",
    "\n",
    "\n",
    "### 8). LIMIT / OFFSET\n",
    "Finally, the rows that fall outside the range specified by the `LIMIT` and `OFFSET` are discarded, leaving the final set of rows to be returned from the query."
   ]
  },
  {
   "cell_type": "markdown",
   "id": "510f45f1",
   "metadata": {},
   "source": [
    "### Exercises"
   ]
  },
  {
   "cell_type": "code",
   "execution_count": null,
   "id": "d1ae747f",
   "metadata": {},
   "outputs": [],
   "source": [
    "# 1. Find the number of movies each director has directed\n",
    "'''\n",
    "    SELECT Director, COUNT(Title) FROM movies\n",
    "    GROUP BY Director;\n",
    "'''\n",
    "\n",
    "# 2. Find the total domestic and international sales that can be attributed to each director\n",
    "'''\n",
    "    SELECT Director, SUM(Domestic_sales)+SUM(International_sales) FROM movies\n",
    "    JOIN Boxoffice\n",
    "    ON movies.Id = Boxoffice.Movie_id\n",
    "    GROUP BY Director;\n",
    "'''"
   ]
  },
  {
   "cell_type": "markdown",
   "id": "bbee8d07",
   "metadata": {},
   "source": [
    "## SQL Lesson 13: Inserting rows"
   ]
  },
  {
   "cell_type": "markdown",
   "id": "f2a38108",
   "metadata": {},
   "source": [
    "We've spent quite a few lessons on how to query for data in a database, so it's time to start learning a bit about SQL schemas and how to add new data."
   ]
  },
  {
   "cell_type": "markdown",
   "id": "308f82f6",
   "metadata": {},
   "source": [
    "### What is a Schema?"
   ]
  },
  {
   "cell_type": "markdown",
   "id": "c930f552",
   "metadata": {},
   "source": [
    "We previously described a table in a database as a two-dimensional set of rows and columns, with the columns being the properties and the rows being instances of the entity in the table. In SQL, the database schema is what describes the structure of each table, and the datatypes that each column of the table can contain."
   ]
  },
  {
   "cell_type": "markdown",
   "id": "9fe9b912",
   "metadata": {},
   "source": [
    "This fixed structure is what allows a database to be efficient, and consistent despite storing millions or even billions of rows."
   ]
  },
  {
   "cell_type": "markdown",
   "id": "23ed7847",
   "metadata": {},
   "source": [
    "### Inserting new data"
   ]
  },
  {
   "cell_type": "markdown",
   "id": "079fccea",
   "metadata": {},
   "source": [
    "When inserting data into a database, we need to use an `INSERT` statement, which declares which table to write into, the columns of data that we are filling, and one or more rows of data to insert. In general, each row of data you insert should contain values for every corresponding column in the table. You can insert multiple rows at a time by just listing them sequentially."
   ]
  },
  {
   "cell_type": "code",
   "execution_count": null,
   "id": "3ee62a53",
   "metadata": {},
   "outputs": [],
   "source": [
    "# Insert statement with values for all columns\n",
    "\n",
    "'''\n",
    "    INSERT INTO mytable\n",
    "    VALUES (value_or_expr, another_value_or_expr, …),\n",
    "           (value_or_expr_2, another_value_or_expr_2, …),\n",
    "           …;\n",
    "'''"
   ]
  },
  {
   "cell_type": "markdown",
   "id": "fd68c804",
   "metadata": {},
   "source": [
    "In some cases, if you have incomplete data and the table contains columns that support default values, you can insert rows with only the columns of data you have by specifying them explicitly."
   ]
  },
  {
   "cell_type": "code",
   "execution_count": null,
   "id": "98b7f991",
   "metadata": {},
   "outputs": [],
   "source": [
    "# Insert statement with specific columns\n",
    "\n",
    "'''\n",
    "    INSERT INTO mytable\n",
    "    (column, another_column, …)\n",
    "    VALUES (value_or_expr, another_value_or_expr, …),\n",
    "          (value_or_expr_2, another_value_or_expr_2, …),\n",
    "          …;\n",
    "'''"
   ]
  },
  {
   "cell_type": "markdown",
   "id": "36097b0a",
   "metadata": {},
   "source": [
    "In these cases, the number of values need to match the number of columns specified. Despite this being a more verbose statement to write, inserting values this way has the benefit of being forward compatible. For example, if you add a new column to the table with a default value, no hardcoded `INSERT` statements will have to change as a result to accommodate that change."
   ]
  },
  {
   "cell_type": "markdown",
   "id": "0af5cb00",
   "metadata": {},
   "source": [
    "In addition, you can use mathematical and string expressions with the values that you are inserting.\n",
    "This can be useful to ensure that all data inserted is formatted a certain way."
   ]
  },
  {
   "cell_type": "code",
   "execution_count": null,
   "id": "d1574330",
   "metadata": {},
   "outputs": [],
   "source": [
    "# Example Insert statement with expressions\n",
    "\n",
    "'''\n",
    "    INSERT INTO boxoffice\n",
    "    (movie_id, rating, sales_in_millions)\n",
    "    VALUES (1, 9.9, 283742034 / 1000000);\n",
    "'''"
   ]
  },
  {
   "cell_type": "markdown",
   "id": "74e37ac6",
   "metadata": {},
   "source": [
    "### Exercises"
   ]
  },
  {
   "cell_type": "code",
   "execution_count": null,
   "id": "3f043189",
   "metadata": {},
   "outputs": [],
   "source": [
    "# 1. Add the studio's new production, Toy Story 4 to the list of movies (you can use any director) \n",
    "'''\n",
    "    INSERT INTO Movies\n",
    "(Title, Director, Year, Length_minutes)\n",
    "VALUES ('Toy Story 4', 'John Lasseter', 1996, 47);\n",
    "'''\n",
    "\n",
    "# 2. Toy Story 4 has been released to critical acclaim! It had a rating of 8.7, and made 340 million\n",
    "# domestically and 270 million internationally. Add the record to the BoxOffice table.\n",
    "'''\n",
    "   INSERT INTO boxoffice VALUES (15, 8.7, 340000000, 270000000); \n",
    "'''"
   ]
  },
  {
   "cell_type": "markdown",
   "id": "174659b8",
   "metadata": {},
   "source": [
    "## SQL Lesson 14: Updating rows"
   ]
  },
  {
   "cell_type": "markdown",
   "id": "c43a5a40",
   "metadata": {},
   "source": [
    "In addition to adding new data, a common task is to update existing data, which can be done using an `UPDATE` statement. Similar to the `INSERT` statement, you have to specify exactly which table, columns, and rows to update. In addition, the data you are updating has to match the data type of the columns in the table schema."
   ]
  },
  {
   "cell_type": "code",
   "execution_count": null,
   "id": "a5544ee4",
   "metadata": {},
   "outputs": [],
   "source": [
    "# Update statement with values\n",
    "\n",
    "'''\n",
    "    UPDATE mytable\n",
    "    SET column = value_or_expr, \n",
    "        other_column = another_value_or_expr, \n",
    "        …\n",
    "    WHERE condition;\n",
    "'''"
   ]
  },
  {
   "cell_type": "markdown",
   "id": "5af7dd0e",
   "metadata": {},
   "source": [
    "The statement works by taking multiple column/value pairs, and applying those changes to each and every row that satisfies the constraint in the `WHERE` clause."
   ]
  },
  {
   "cell_type": "markdown",
   "id": "eed2f7c0",
   "metadata": {},
   "source": [
    "### Taking care"
   ]
  },
  {
   "cell_type": "markdown",
   "id": "d3608526",
   "metadata": {},
   "source": [
    "Most people working with SQL will make mistakes updating data at one point or another. Whether it's updating the wrong set of rows in a production database, or accidentally leaving out the `WHERE` clause (which causes the update to apply to all rows), you need to be extra careful when constructing `UPDATE` statements."
   ]
  },
  {
   "cell_type": "markdown",
   "id": "36ad06de",
   "metadata": {},
   "source": [
    "One helpful tip is to always write the constraint first and test it in a `SELECT` query to make sure you are updating the right rows, and only then writing the column/value pairs to update."
   ]
  },
  {
   "cell_type": "markdown",
   "id": "e3c69eca",
   "metadata": {},
   "source": [
    "### Exercises"
   ]
  },
  {
   "cell_type": "code",
   "execution_count": null,
   "id": "c95e1625",
   "metadata": {},
   "outputs": [],
   "source": [
    "# 1. The director for A Bug's Life is incorrect, it was actually directed by John Lasseter\n",
    "'''\n",
    "    UPDATE Movies\n",
    "    SET Director = 'John Lasseter'\n",
    "    WHERE Title = \"A Bug's Life\";\n",
    "'''\n",
    "\n",
    "# 2. The year that Toy Story 2 was released is incorrect, it was actually released in 1999\n",
    "'''\n",
    "    UPDATE movies\n",
    "    SET year = 1999\n",
    "    WHERE id = 3;\n",
    "'''\n",
    "\n",
    "# 3. Both the title and director for Toy Story 8 is incorrect! The title should be \"Toy Story 3\" and it was directed by Lee Unkrich\n",
    "'''\n",
    "    UPDATE Movies\n",
    "    SET Title = 'Toy Story 3', Director = 'Lee Unkrich'\n",
    "    WHERE id = 11;\n",
    "'''"
   ]
  },
  {
   "cell_type": "markdown",
   "id": "e365bd33",
   "metadata": {},
   "source": [
    "## SQL Lesson 15: Deleting rows"
   ]
  },
  {
   "cell_type": "markdown",
   "id": "eabb0484",
   "metadata": {},
   "source": [
    "When you need to delete data from a table in the database, you can use a `DELETE` statement, which describes the table to act on, and the rows of the table to delete through the `WHERE` clause."
   ]
  },
  {
   "cell_type": "code",
   "execution_count": null,
   "id": "f1685812",
   "metadata": {},
   "outputs": [],
   "source": [
    "# Delete statement with condition\n",
    "\n",
    "'''\n",
    "    DELETE FROM mytable\n",
    "    WHERE condition;\n",
    "'''"
   ]
  },
  {
   "cell_type": "markdown",
   "id": "5fe01c14",
   "metadata": {},
   "source": [
    "If you decide to leave out the WHERE constraint, then all rows are removed, which is a quick and easy way to clear out a table completely (if intentional)."
   ]
  },
  {
   "cell_type": "markdown",
   "id": "e6dce308",
   "metadata": {},
   "source": [
    "### Taking extra care"
   ]
  },
  {
   "cell_type": "markdown",
   "id": "33939aba",
   "metadata": {},
   "source": [
    "Like the `UPDATE` statement from last lesson, it's recommended that you run the constraint in a `SELECT` query first to ensure that you are removing the right rows. Without a proper backup or test database, it is downright easy to irrevocably remove data, so always read your `DELETE` statements twice and execute once."
   ]
  },
  {
   "cell_type": "markdown",
   "id": "9306249b",
   "metadata": {},
   "source": [
    "### Exercises"
   ]
  },
  {
   "cell_type": "code",
   "execution_count": null,
   "id": "d3e7ab55",
   "metadata": {},
   "outputs": [],
   "source": [
    "# 1. This database is getting too big, lets remove all movies that were released before 2005.\n",
    "'''\n",
    "    DELETE FROM movies\n",
    "    where year < 2005;\n",
    "'''\n",
    "\n",
    "# 2. Andrew Stanton has also left the studio, so please remove all movies directed by him.\n",
    "'''\n",
    "    DELETE FROM movies\n",
    "    where director = \"Andrew Stanton\";\n",
    "'''"
   ]
  },
  {
   "cell_type": "markdown",
   "id": "73c86b7d",
   "metadata": {},
   "source": [
    "## SQL Lesson 16: Creating tables"
   ]
  },
  {
   "cell_type": "markdown",
   "id": "d997be12",
   "metadata": {},
   "source": [
    "When you have new entities and relationships to store in your database, you can create a new database table using the `CREATE TABLE` statement."
   ]
  },
  {
   "cell_type": "code",
   "execution_count": null,
   "id": "0e74ee0c",
   "metadata": {},
   "outputs": [],
   "source": [
    "# Create table statement w/ optional table constraint and default value\n",
    "\n",
    "'''\n",
    "    CREATE TABLE IF NOT EXISTS mytable (\n",
    "        column DataType TableConstraint DEFAULT default_value,\n",
    "        another_column DataType TableConstraint DEFAULT default_value,\n",
    "        …\n",
    "    );\n",
    "'''"
   ]
  },
  {
   "cell_type": "markdown",
   "id": "eb105f50",
   "metadata": {},
   "source": [
    "The structure of the new table is defined by its table schema, which defines a series of columns. Each column has a name, the type of data allowed in that column, an optional table constraint on values being inserted, and an optional default value."
   ]
  },
  {
   "cell_type": "markdown",
   "id": "b694837c",
   "metadata": {},
   "source": [
    "<div style=\"background-color: lightgreen; padding: 5px; border-radius: 5px;\">If there already exists a table with the same name, the SQL implementation will usually throw an error, so to suppress the error and skip creating a table if one exists, you can use the <span style='background-color: lightgray;'>IF NOT EXISTS</span> clause.</div>"
   ]
  },
  {
   "cell_type": "markdown",
   "id": "38965316",
   "metadata": {},
   "source": [
    "### Table Data Types"
   ]
  },
  {
   "cell_type": "markdown",
   "id": "2849bdd1",
   "metadata": {},
   "source": [
    "Different databases support different data types, but the common types support numeric, string, and other miscellaneous things like dates, booleans, or even binary data. Here are some examples that you might use in real code."
   ]
  },
  {
   "cell_type": "markdown",
   "id": "a1a3997a",
   "metadata": {},
   "source": [
    "- INTEGER, BOOLEAN\n",
    "    - The integer datatypes can store whole integer values like the count of a number or an age. In some implementations, the boolean value is just represented as an integer value of just 0 or 1.\n",
    "- FLOAT, DOUBLE, REAL\n",
    "    - The floating point datatypes can store more precise numerical data like measurements or fractional values. Different types can be used depending on the floating point precision required for that value.\n",
    "- CHARACTER(num_chars), VARCHAR(num_chars), TEXT\t\n",
    "    - The text based datatypes can store strings and text in all sorts of locales. The distinction between the various types generally amount to underlaying efficiency of the database when working with these columns.\n",
    "    - Both the CHARACTER and VARCHAR (variable character) types are specified with the max number of characters that they can store (longer values may be truncated), so can be more efficient to store and query with big tables.\n",
    "\n",
    "- DATE, DATETIME\n",
    "    - SQL can also store date and time stamps to keep track of time series and event data. They can be tricky to work with especially when manipulating data across timezones.\n",
    "- BLOB\n",
    "    - Finally, SQL can store binary data in blobs right in the database. These values are often opaque to the database, so you usually have to store them with the right metadata to requery them."
   ]
  },
  {
   "cell_type": "markdown",
   "id": "e69cc622",
   "metadata": {},
   "source": [
    "### Table constraints"
   ]
  },
  {
   "cell_type": "markdown",
   "id": "3461f947",
   "metadata": {},
   "source": [
    "We aren't going to dive too deep into table constraints in this lesson, but each column can have additional table constraints on it which limit what values can be inserted into that column. This is not a comprehensive list, but will show a few common constraints that you might find useful."
   ]
  },
  {
   "cell_type": "markdown",
   "id": "93775289",
   "metadata": {},
   "source": [
    "- PRIMARY KEY\n",
    "    - This means that the values in this column are unique, and each value can be used to identify a single row in this table.\n",
    "- AUTOINCREMENT\n",
    "    - For integer values, this means that the value is automatically filled in and incremented with each row insertion. Not supported in all databases.\n",
    "- UNIQUE\n",
    "    - This means that the values in this column have to be unique, so you can't insert another row with the same value in this column as another row in the table. Differs from the `PRIMARY KEY` in that it doesn't have to be a key for a row in the table.\n",
    "- NOT NULL\n",
    "    - This means that the inserted value can not be `NULL`.\n",
    "- CHECK (expression)\n",
    "    - This allows you to run a more complex expression to test whether the values inserted are valid. For example, you can check that values are positive, or greater than a specific size, or start with a certain prefix, etc.\n",
    "- FOREIGN KEY\n",
    "    - This is a consistency check which ensures that each value in this column corresponds to another value in a column in another table.\n",
    "\n",
    "    - For example, if there are two tables, one listing all Employees by ID, and another listing their payroll information, the `FOREIGN KEY` can ensure that every row in the payroll table corresponds to a valid employee in the master Employee list."
   ]
  },
  {
   "cell_type": "code",
   "execution_count": null,
   "id": "6d981ffc",
   "metadata": {},
   "outputs": [],
   "source": [
    "# Movies table schema\n",
    "\n",
    "'''\n",
    "    CREATE TABLE movies (\n",
    "        id INTEGER PRIMARY KEY,\n",
    "        title TEXT,\n",
    "        director TEXT,\n",
    "        year INTEGER, \n",
    "        length_minutes INTEGER\n",
    "    );\n",
    "'''"
   ]
  },
  {
   "cell_type": "markdown",
   "id": "d88389ad",
   "metadata": {},
   "source": [
    "### Exercises"
   ]
  },
  {
   "cell_type": "code",
   "execution_count": null,
   "id": "75b9b9d6",
   "metadata": {},
   "outputs": [],
   "source": [
    "# 1. Create a new table named Database with the following columns:\n",
    "# – Name A string (text) describing the name of the database\n",
    "# – Version A number (floating point) of the latest version of this database\n",
    "# – Download_count An integer count of the number of times this database was downloaded\n",
    "# This table has no constraints.\n",
    "'''\n",
    "    CREATE TABLE Database (\n",
    "        Name TEXT,\n",
    "        Version FLOAT,\n",
    "        Download_count INTEGER\n",
    "    );\n",
    "'''"
   ]
  },
  {
   "cell_type": "markdown",
   "id": "c070bf44",
   "metadata": {},
   "source": [
    "## SQL Lesson 17: Altering tables"
   ]
  },
  {
   "cell_type": "markdown",
   "id": "c9711552",
   "metadata": {},
   "source": [
    "As your data changes over time, SQL provides a way for you to update your corresponding tables and database schemas by using the `ALTER TABLE` statement to add, remove, or modify columns and table constraints."
   ]
  },
  {
   "cell_type": "markdown",
   "id": "0e362bfc",
   "metadata": {},
   "source": [
    "### Adding columns"
   ]
  },
  {
   "cell_type": "markdown",
   "id": "81064f0e",
   "metadata": {},
   "source": [
    "The syntax for adding a new column is similar to the syntax when creating new rows in the `CREATE TABLE` statement. You need to specify the data type of the column along with any potential table constraints and default values to be applied to both existing and new rows. In some databases like MySQL, you can even specify where to insert the new column using the `FIRST` or `AFTER` clauses, though this is not a standard feature."
   ]
  },
  {
   "cell_type": "code",
   "execution_count": null,
   "id": "c5955b51",
   "metadata": {},
   "outputs": [],
   "source": [
    "# Altering table to add new column(s)\n",
    "\n",
    "'''\n",
    "    ALTER TABLE mytable\n",
    "    ADD column DataType OptionalTableConstraint \n",
    "        DEFAULT default_value;\n",
    "'''"
   ]
  },
  {
   "cell_type": "markdown",
   "id": "0f08c95a",
   "metadata": {},
   "source": [
    "### Removing columns"
   ]
  },
  {
   "cell_type": "markdown",
   "id": "6ce8a9de",
   "metadata": {},
   "source": [
    "Dropping columns is as easy as specifying the column to drop, however, some databases (including SQLite) don't support this feature. Instead you may have to create a new table and migrate the data over."
   ]
  },
  {
   "cell_type": "code",
   "execution_count": null,
   "id": "37bcac3c",
   "metadata": {},
   "outputs": [],
   "source": [
    "# Altering table to remove column(s)\n",
    "\n",
    "'''\n",
    "    ALTER TABLE mytable\n",
    "    DROP column_to_be_deleted;\n",
    "'''"
   ]
  },
  {
   "cell_type": "markdown",
   "id": "91f64cde",
   "metadata": {},
   "source": [
    "### Renaming the table"
   ]
  },
  {
   "cell_type": "markdown",
   "id": "c18f80b7",
   "metadata": {},
   "source": [
    "If you need to rename the table itself, you can also do that using the `RENAME TO` clause of the statement."
   ]
  },
  {
   "cell_type": "code",
   "execution_count": null,
   "id": "62f3190a",
   "metadata": {},
   "outputs": [],
   "source": [
    "# Altering table name\n",
    "\n",
    "'''\n",
    "    ALTER TABLE mytable\n",
    "    RENAME TO new_table_name;\n",
    "'''"
   ]
  },
  {
   "cell_type": "markdown",
   "id": "3ece4329",
   "metadata": {},
   "source": [
    "### Exercises"
   ]
  },
  {
   "cell_type": "code",
   "execution_count": null,
   "id": "f97f8e5c",
   "metadata": {},
   "outputs": [],
   "source": [
    "# 1. Add a column named Aspect_ratio with a FLOAT data type to store the aspect-ratio each movie was released in.\n",
    "'''\n",
    "    ALTER TABLE Movies\n",
    "      ADD COLUMN Aspect_ratio FLOAT DEFAULT 2.4;\n",
    "'''\n",
    "\n",
    "# 2. Add another column named Language with a TEXT data type to store the language that the movie was released in. \n",
    "# Ensure that the default for this language is English.\n",
    "'''\n",
    "    ALTER TABLE Movies\n",
    "        ADD COLUMN Language TEXT DEFAULT \"English\";\n",
    "'''\n"
   ]
  },
  {
   "cell_type": "markdown",
   "id": "41449faf",
   "metadata": {},
   "source": [
    "## SQL Lesson 18: Dropping tables"
   ]
  },
  {
   "cell_type": "markdown",
   "id": "6462af6e",
   "metadata": {},
   "source": [
    "In some rare cases, you may want to remove an entire table including all of its data and metadata, and to do so, you can use the `DROP TABLE` statement, which differs from the `DELETE` statement in that it also removes the table schema from the database entirely."
   ]
  },
  {
   "cell_type": "code",
   "execution_count": null,
   "id": "f6e6ba23",
   "metadata": {},
   "outputs": [],
   "source": [
    "# Drop table statement\n",
    "'''\n",
    "    DROP TABLE IF EXISTS mytable;\n",
    "'''"
   ]
  },
  {
   "cell_type": "markdown",
   "id": "9a2ebd04",
   "metadata": {},
   "source": [
    "Like the `CREATE TABLE` statement, the database may throw an error if the specified table does not exist, and to suppress that error, you can use the `IF EXISTS` clause."
   ]
  },
  {
   "cell_type": "markdown",
   "id": "72d3b220",
   "metadata": {},
   "source": [
    "In addition, if you have another table that is dependent on columns in table you are removing (for example, with a `FOREIGN KEY` dependency) then you will have to either update all dependent tables first to remove the dependent rows or to remove those tables entirely."
   ]
  },
  {
   "cell_type": "markdown",
   "id": "3220e13e",
   "metadata": {},
   "source": [
    "### Exercises"
   ]
  },
  {
   "cell_type": "code",
   "execution_count": null,
   "id": "afb9cce2",
   "metadata": {},
   "outputs": [],
   "source": [
    "# 1. We've sadly reached the end of our lessons, lets clean up by removing the Movies table.\n",
    "'''\n",
    "    DROP TABLE IF EXISTS Movies;\n",
    "'''\n",
    "\n",
    "# 2. And drop the BoxOffice table as well \n",
    "'''\n",
    "    DROP TABLE IF EXISTS Boxoffice;\n",
    "'''"
   ]
  }
 ],
 "metadata": {
  "kernelspec": {
   "display_name": "Python 3 (ipykernel)",
   "language": "python",
   "name": "python3"
  },
  "language_info": {
   "codemirror_mode": {
    "name": "ipython",
    "version": 3
   },
   "file_extension": ".py",
   "mimetype": "text/x-python",
   "name": "python",
   "nbconvert_exporter": "python",
   "pygments_lexer": "ipython3",
   "version": "3.10.7"
  }
 },
 "nbformat": 4,
 "nbformat_minor": 5
}
